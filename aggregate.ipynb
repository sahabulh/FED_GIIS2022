{
 "cells": [
  {
   "cell_type": "code",
   "execution_count": null,
   "id": "0db1e0c1",
   "metadata": {},
   "outputs": [],
   "source": [
    "import os\n",
    "import numpy as np\n",
    "from pickle import dump, load\n",
    "from matplotlib import rcParams,pyplot as plt\n",
    "%matplotlib inline"
   ]
  },
  {
   "cell_type": "code",
   "execution_count": null,
   "id": "8a0d8a1e",
   "metadata": {},
   "outputs": [],
   "source": [
    "params = {\n",
    "   'axes.labelsize': 14,\n",
    "    'axes.labelweight': \"bold\",\n",
    "   'font.size': 14,\n",
    "   'font.weight': \"bold\",\n",
    "   'legend.fontsize': 14,\n",
    "   'xtick.labelsize': 20,\n",
    "   'ytick.labelsize': 20,\n",
    "   'text.usetex': False,\n",
    "   'figure.figsize': [16, 9.87]\n",
    "   }\n",
    "rcParams.update(params)"
   ]
  },
  {
   "cell_type": "code",
   "execution_count": null,
   "id": "a890ddc7",
   "metadata": {},
   "outputs": [],
   "source": [
    "n_clients = 5"
   ]
  },
  {
   "cell_type": "code",
   "execution_count": null,
   "id": "3af2f41e",
   "metadata": {},
   "outputs": [],
   "source": [
    "path = 'ver_13_00'\n",
    "l = [f for f in os.listdir(path)]\n",
    "print(l)"
   ]
  },
  {
   "cell_type": "code",
   "execution_count": null,
   "id": "d8584812",
   "metadata": {},
   "outputs": [],
   "source": [
    "for i in range(len(l)):\n",
    "    with open(path+'\\\\'+l[i],'rb') as fp:\n",
    "        data = load(fp)\n",
    "    h1 = list()\n",
    "    h2 = list()\n",
    "    histories = data['histories']\n",
    "    for n in range(n_clients):\n",
    "        h1.append(histories[n]['serP_acc'])\n",
    "        h2.append(histories[n]['serC_acc'])\n",
    "    if i == 0:\n",
    "        serP_acc = np.array(h1)\n",
    "        serC_acc = np.array(h2)\n",
    "        shistory = np.array(data['shistory'])\n",
    "        B = np.array(data['B'])\n",
    "        f = data['f']\n",
    "        q = data['q']\n",
    "        zi_star = data['zi_star']\n",
    "        du = data['du']\n",
    "        rP = data['rP']\n",
    "        rC = data['rC']\n",
    "        uP = data['uP']\n",
    "        uC = data['uC']\n",
    "    else:\n",
    "        serP_acc = serP_acc + np.array(h1)\n",
    "        serC_acc = serC_acc + np.array(h2)\n",
    "        shistory = shistory + np.array(data['shistory'])\n",
    "        B = B + np.array(data['B'])\n",
    "        f = f + data['f']\n",
    "        q = q + data['q']\n",
    "        zi_star = zi_star + data['zi_star']\n",
    "        du = du + data['du']\n",
    "        rP = rP + data['rP']\n",
    "        rC = rC + data['rC']\n",
    "        uP = uP + data['uP']\n",
    "        uC = uC + data['uC']\n",
    "        \n",
    "histories = list()\n",
    "for i in range(n_clients):\n",
    "    histories.append({\"serP_acc\":list(),\"serC_acc\":list()})\n",
    "for i in range(n_clients):\n",
    "    histories[i][\"serP_acc\"] = (serP_acc[i]/len(l)).tolist()\n",
    "    histories[i][\"serC_acc\"] = (serC_acc[i]/len(l)).tolist()"
   ]
  },
  {
   "cell_type": "code",
   "execution_count": null,
   "id": "8cacdf6f",
   "metadata": {},
   "outputs": [],
   "source": [
    "data = {'histories':histories, 'shistory':shistory/len(l), 'f':f/len(l), 'B':B/len(l), 'q':q/len(l), 'rP': rP/len(l), 'rC': rC/len(l), 'uP': uP/len(l), 'uC': uC/len(l), 'du': du/len(l), 'zi_star': zi_star/len(l)}\n",
    "with open(path+'_1','wb') as fp:\n",
    "    dump(data, fp)"
   ]
  }
 ],
 "metadata": {
  "kernelspec": {
   "display_name": "Python 3 (ipykernel)",
   "language": "python",
   "name": "python3"
  },
  "language_info": {
   "codemirror_mode": {
    "name": "ipython",
    "version": 3
   },
   "file_extension": ".py",
   "mimetype": "text/x-python",
   "name": "python",
   "nbconvert_exporter": "python",
   "pygments_lexer": "ipython3",
   "version": "3.9.18"
  }
 },
 "nbformat": 4,
 "nbformat_minor": 5
}
